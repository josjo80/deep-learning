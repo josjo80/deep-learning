{
 "cells": [
  {
   "cell_type": "code",
   "execution_count": null,
   "metadata": {
    "collapsed": true
   },
   "outputs": [],
   "source": [
    "#ImpedanceSolver - Assumes saline solution that matches tissue conductance.  Takes in tissue temp, solution normalization,\n",
    "#and height/thickness of tissue.  Returns conductance, sig, and impedance, Z based on temperature.\n",
    "\n",
    "def ImpedanceSolver(T, N, h):\n",
    "    #sigma is based on Eq 6 from \"Considerations for Thermal Injury Analysis for RF Ablation Devices\" Isaac A Chang\n",
    "    delta = 25 - T\n",
    "    sig25N = N*(10.394 - 2.3776*N + 0.68258*N**2 - 9.13538*N**3 + 1.0086e-2*N**4)\n",
    "    sig = sig25N*(1.0 - 1.962e-2*delta + 8.08e-5*delta**2 - N*delta*(3.020e-5 + 3.922e-5*delta + N*(1.721e-5 - 6.584e-6*delta)))\n",
    "    Z = 1/(sig*h)\n",
    "    \n",
    "    return sig, Z"
   ]
  }
 ],
 "metadata": {
  "kernelspec": {
   "display_name": "Python 2",
   "language": "python",
   "name": "python2"
  },
  "language_info": {
   "codemirror_mode": {
    "name": "ipython",
    "version": 2
   },
   "file_extension": ".py",
   "mimetype": "text/x-python",
   "name": "python",
   "nbconvert_exporter": "python",
   "pygments_lexer": "ipython2",
   "version": "2.7.11"
  }
 },
 "nbformat": 4,
 "nbformat_minor": 0
}
