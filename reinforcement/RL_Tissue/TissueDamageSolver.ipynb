{
 "cells": [
  {
   "cell_type": "code",
   "execution_count": null,
   "metadata": {
    "collapsed": true
   },
   "outputs": [],
   "source": [
    "#TissueDamageSolver - Integrates the damage to tissue over time for a given temperature.  Assumes Dold is managed in\n",
    "#main loop.\n",
    "\n",
    "def TissueDamageSolver(T, Dold, dt):\n",
    "    #n is the step of the activation.  Assumes dt timestep.\n",
    "    A = 7.39e39 #1/s for liver per \"Thermal modeling of lesion growth with radiofrequency ablation devices\" by Isaac Chang\n",
    "    dE = 2.577e5 #J/mol for liver per \"Thermal modeling of lesion growth with radiofrequency ablation devices\" by Isaac Chang\n",
    "    R = 8.3144598\n",
    "    Dnew = Dold + (A*exp(-dE/R*T)*dt)\n",
    "    Dold = Dnew\n",
    "    \n",
    "    return Dnew"
   ]
  }
 ],
 "metadata": {
  "kernelspec": {
   "display_name": "Python 2",
   "language": "python",
   "name": "python2"
  },
  "language_info": {
   "codemirror_mode": {
    "name": "ipython",
    "version": 2
   },
   "file_extension": ".py",
   "mimetype": "text/x-python",
   "name": "python",
   "nbconvert_exporter": "python",
   "pygments_lexer": "ipython2",
   "version": "2.7.11"
  }
 },
 "nbformat": 4,
 "nbformat_minor": 0
}
