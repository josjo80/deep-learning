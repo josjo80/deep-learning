{
 "cells": [
  {
   "cell_type": "code",
   "execution_count": null,
   "metadata": {
    "collapsed": true
   },
   "outputs": [],
   "source": [
    "#Thermal solver - Assumes a mass of water, power is held constant as it is delivered to the mass, no phase change\n",
    "#and no perfusion of blood to the \"tissue\" (i.e. water mass).\n",
    "\n",
    "def ThermalSolver(P, T0, dt, m):\n",
    "    #Constant definitions\n",
    "    #C is specific heat capacity\n",
    "    #C is 4000 J/kgK per \"Modeling and numerical simulation of bioheat transfer and biomechanics in soft tissue\", Wensheng Shen\n",
    "    #C is 3600 J/kgC per \"Considerations for Thermal Injury Analysis for RF Ablation Devices\" Isaac A Chang\n",
    "    C = 3600\n",
    "    \n",
    "    T = (1/m*C)*(P/dt+m*C*T0)\n",
    "    \n",
    "    return T"
   ]
  }
 ],
 "metadata": {
  "kernelspec": {
   "display_name": "Python 2",
   "language": "python",
   "name": "python2"
  },
  "language_info": {
   "codemirror_mode": {
    "name": "ipython",
    "version": 2
   },
   "file_extension": ".py",
   "mimetype": "text/x-python",
   "name": "python",
   "nbconvert_exporter": "python",
   "pygments_lexer": "ipython2",
   "version": "2.7.11"
  }
 },
 "nbformat": 4,
 "nbformat_minor": 0
}
